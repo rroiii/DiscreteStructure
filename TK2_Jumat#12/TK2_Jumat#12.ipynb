{
 "cells": [
  {
   "cell_type": "code",
   "execution_count": 4,
   "metadata": {},
   "outputs": [
    {
     "name": "stdout",
     "output_type": "stream",
     "text": [
      "x y z\n",
      "-----\n",
      "0 0 0\n",
      "0 1 0\n",
      "1 0 0\n",
      "1 1 0\n"
     ]
    }
   ],
   "source": [
    "# Constants\n",
    "\n",
    "constant = 0\n",
    "\n",
    "print(\"x y z\")\n",
    "print(\"-----\")\n",
    "for i in (0, 1) :\n",
    "    for j in (0, 1) :\n",
    "        print(str(i) + \" \" + str(j) + \" \" + str(constant))"
   ]
  },
  {
   "cell_type": "code",
   "execution_count": 5,
   "metadata": {},
   "outputs": [
    {
     "name": "stdout",
     "output_type": "stream",
     "text": [
      "x y z\n",
      "-----\n",
      "0 0 0\n",
      "0 1 0\n",
      "1 0 0\n",
      "1 1 1\n"
     ]
    }
   ],
   "source": [
    "# AND Gate\n",
    "\n",
    "print(\"x y z\")\n",
    "print(\"-----\")\n",
    "for i in (0, 1) :\n",
    "    for j in (0, 1) :\n",
    "        print(str(i) + \" \" + str(j) + \" \" + str(i and j))"
   ]
  },
  {
   "cell_type": "code",
   "execution_count": 9,
   "metadata": {},
   "outputs": [
    {
     "name": "stdout",
     "output_type": "stream",
     "text": [
      "x y z\n",
      "-----\n",
      "0 0 0\n",
      "0 1 0\n",
      "1 0 1\n",
      "1 1 0\n"
     ]
    }
   ],
   "source": [
    "# z = x.!y\n",
    "\n",
    "print(\"x y z\")\n",
    "print(\"-----\")\n",
    "for i in (0, 1) :\n",
    "    for j in (0, 1) :\n",
    "        print(str(i) + \" \" + str(j) + \" \" + str(i and int((not j))))"
   ]
  },
  {
   "cell_type": "code",
   "execution_count": 10,
   "metadata": {},
   "outputs": [
    {
     "name": "stdout",
     "output_type": "stream",
     "text": [
      "x y z\n",
      "-----\n",
      "0 0 0\n",
      "0 1 0\n",
      "1 0 1\n",
      "1 1 1\n"
     ]
    }
   ],
   "source": [
    "# z = x\n",
    "\n",
    "print(\"x y z\")\n",
    "print(\"-----\")\n",
    "for i in (0, 1) :\n",
    "    for j in (0, 1) :\n",
    "        print(str(i) + \" \" + str(j) + \" \" + str(i))"
   ]
  },
  {
   "cell_type": "code",
   "execution_count": 12,
   "metadata": {},
   "outputs": [
    {
     "name": "stdout",
     "output_type": "stream",
     "text": [
      "x y z\n",
      "-----\n",
      "0 0 0\n",
      "0 1 1\n",
      "1 0 0\n",
      "1 1 0\n"
     ]
    }
   ],
   "source": [
    "# z = !x.y\n",
    "\n",
    "print(\"x y z\")\n",
    "print(\"-----\")\n",
    "for i in (0, 1) :\n",
    "    for j in (0, 1) :\n",
    "        print(str(i) + \" \" + str(j) + \" \" + str(int((not i)) and j))"
   ]
  },
  {
   "cell_type": "code",
   "execution_count": 13,
   "metadata": {},
   "outputs": [
    {
     "name": "stdout",
     "output_type": "stream",
     "text": [
      "x y z\n",
      "-----\n",
      "0 0 0\n",
      "0 1 1\n",
      "1 0 0\n",
      "1 1 1\n"
     ]
    }
   ],
   "source": [
    "# z = y\n",
    "\n",
    "print(\"x y z\")\n",
    "print(\"-----\")\n",
    "for i in (0, 1) :\n",
    "    for j in (0, 1) :\n",
    "        print(str(i) + \" \" + str(j) + \" \" + str(j))"
   ]
  },
  {
   "cell_type": "code",
   "execution_count": 16,
   "metadata": {},
   "outputs": [
    {
     "name": "stdout",
     "output_type": "stream",
     "text": [
      "x y z\n",
      "-----\n",
      "0 0 0\n",
      "0 1 1\n",
      "1 0 1\n",
      "1 1 0\n"
     ]
    }
   ],
   "source": [
    "# XOR Gate\n",
    "\n",
    "def xor(i, j) :\n",
    "    return str((int((not i)) and j) or (i and int(not j)))\n",
    "\n",
    "print(\"x y z\")\n",
    "print(\"-----\")\n",
    "for i in (0, 1) :\n",
    "    for j in (0, 1) :\n",
    "        print(str(i) + \" \" + str(j) + \" \" + xor(i, j))"
   ]
  },
  {
   "cell_type": "code",
   "execution_count": 6,
   "metadata": {},
   "outputs": [
    {
     "name": "stdout",
     "output_type": "stream",
     "text": [
      "x y z\n",
      "-----\n",
      "0 0 0\n",
      "0 1 1\n",
      "1 0 1\n",
      "1 1 1\n"
     ]
    }
   ],
   "source": [
    "# OR Gate\n",
    "\n",
    "print(\"x y z\")\n",
    "print(\"-----\")\n",
    "for i in (0, 1) :\n",
    "    for j in (0, 1) :\n",
    "        print(str(i) + \" \" + str(j) + \" \" + str(i or j))"
   ]
  },
  {
   "cell_type": "code",
   "execution_count": 1,
   "metadata": {},
   "outputs": [
    {
     "name": "stdout",
     "output_type": "stream",
     "text": [
      "x y z\n",
      "-----\n",
      "0 0 1\n",
      "0 1 0\n",
      "1 0 0\n",
      "1 1 0\n"
     ]
    }
   ],
   "source": [
    "# NOR Gate\n",
    "\n",
    "print(\"x y z\")\n",
    "print(\"-----\")\n",
    "for i in (0, 1) :\n",
    "    for j in (0, 1) :\n",
    "        print(str(i) + \" \" + str(j) + \" \" + str(int(not (i or j))))"
   ]
  },
  {
   "cell_type": "code",
   "execution_count": 2,
   "metadata": {},
   "outputs": [
    {
     "name": "stdout",
     "output_type": "stream",
     "text": [
      "x y z\n",
      "-----\n",
      "0 0 1\n",
      "0 1 0\n",
      "1 0 0\n",
      "1 1 1\n"
     ]
    }
   ],
   "source": [
    "# XNOR Gate\n",
    "\n",
    "# XOR Gate\n",
    "\n",
    "def xnor(i, j) :\n",
    "    return str((i and j) or (int(not i) and int(not j)))\n",
    "\n",
    "print(\"x y z\")\n",
    "print(\"-----\")\n",
    "for i in (0, 1) :\n",
    "    for j in (0, 1) :\n",
    "        print(str(i) + \" \" + str(j) + \" \" + xnor(i, j))"
   ]
  },
  {
   "cell_type": "code",
   "execution_count": 4,
   "metadata": {},
   "outputs": [
    {
     "name": "stdout",
     "output_type": "stream",
     "text": [
      "x y z\n",
      "-----\n",
      "0 0 1\n",
      "0 1 0\n",
      "1 0 1\n",
      "1 1 0\n"
     ]
    }
   ],
   "source": [
    "# z = !y\n",
    "\n",
    "print(\"x y z\")\n",
    "print(\"-----\")\n",
    "for i in (0, 1) :\n",
    "    for j in (0, 1) :\n",
    "        print(str(i) + \" \" + str(j) + \" \" + str(int(not j)))"
   ]
  },
  {
   "cell_type": "code",
   "execution_count": 5,
   "metadata": {},
   "outputs": [
    {
     "name": "stdout",
     "output_type": "stream",
     "text": [
      "x y z\n",
      "-----\n",
      "0 0 1\n",
      "0 1 0\n",
      "1 0 1\n",
      "1 1 1\n"
     ]
    }
   ],
   "source": [
    "# z = x + !y\n",
    "\n",
    "print(\"x y z\")\n",
    "print(\"-----\")\n",
    "for i in (0, 1) :\n",
    "    for j in (0, 1) :\n",
    "        print(str(i) + \" \" + str(j) + \" \" + str(i or int(not j)))"
   ]
  },
  {
   "cell_type": "code",
   "execution_count": 6,
   "metadata": {},
   "outputs": [
    {
     "name": "stdout",
     "output_type": "stream",
     "text": [
      "x y z\n",
      "-----\n",
      "0 0 1\n",
      "0 1 1\n",
      "1 0 0\n",
      "1 1 0\n"
     ]
    }
   ],
   "source": [
    "# z = !x\n",
    "\n",
    "print(\"x y z\")\n",
    "print(\"-----\")\n",
    "for i in (0, 1) :\n",
    "    for j in (0, 1) :\n",
    "        print(str(i) + \" \" + str(j) + \" \" + str(int(not i)))"
   ]
  },
  {
   "cell_type": "code",
   "execution_count": 7,
   "metadata": {},
   "outputs": [
    {
     "name": "stdout",
     "output_type": "stream",
     "text": [
      "x y z\n",
      "-----\n",
      "0 0 1\n",
      "0 1 1\n",
      "1 0 0\n",
      "1 1 1\n"
     ]
    }
   ],
   "source": [
    "# z = !x + y\n",
    "\n",
    "print(\"x y z\")\n",
    "print(\"-----\")\n",
    "for i in (0, 1) :\n",
    "    for j in (0, 1) :\n",
    "        print(str(i) + \" \" + str(j) + \" \" + str(int(not i) or j))"
   ]
  },
  {
   "cell_type": "code",
   "execution_count": 9,
   "metadata": {},
   "outputs": [
    {
     "name": "stdout",
     "output_type": "stream",
     "text": [
      "x y z\n",
      "-----\n",
      "0 0 1\n",
      "0 1 1\n",
      "1 0 1\n",
      "1 1 0\n"
     ]
    }
   ],
   "source": [
    "# NAND Gate\n",
    "\n",
    "print(\"x y z\")\n",
    "print(\"-----\")\n",
    "for i in (0, 1) :\n",
    "    for j in (0, 1) :\n",
    "        print(str(i) + \" \" + str(j) + \" \" + str(int(not (i and j))))"
   ]
  },
  {
   "cell_type": "code",
   "execution_count": 10,
   "metadata": {},
   "outputs": [
    {
     "name": "stdout",
     "output_type": "stream",
     "text": [
      "x y z\n",
      "-----\n",
      "0 0 1\n",
      "0 1 1\n",
      "1 0 1\n",
      "1 1 1\n"
     ]
    }
   ],
   "source": [
    "# Constant 1\n",
    "\n",
    "print(\"x y z\")\n",
    "print(\"-----\")\n",
    "for i in (0, 1) :\n",
    "    for j in (0, 1) :\n",
    "        print(str(i) + \" \" + str(j) + \" 1\")"
   ]
  }
 ],
 "metadata": {
  "kernelspec": {
   "display_name": "Python 3.9.12 ('base')",
   "language": "python",
   "name": "python3"
  },
  "language_info": {
   "codemirror_mode": {
    "name": "ipython",
    "version": 3
   },
   "file_extension": ".py",
   "mimetype": "text/x-python",
   "name": "python",
   "nbconvert_exporter": "python",
   "pygments_lexer": "ipython3",
   "version": "3.9.12"
  },
  "orig_nbformat": 4,
  "vscode": {
   "interpreter": {
    "hash": "76708e7f05316c682410a77e58469e4c8cae5daf58cc85659a46561e7d2ddfbe"
   }
  }
 },
 "nbformat": 4,
 "nbformat_minor": 2
}
