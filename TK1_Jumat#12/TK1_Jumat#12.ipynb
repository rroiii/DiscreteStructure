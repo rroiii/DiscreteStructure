{
 "cells": [
  {
   "cell_type": "code",
   "execution_count": 1,
   "metadata": {},
   "outputs": [
    {
     "name": "stdout",
     "output_type": "stream",
     "text": [
      "[0, 2, 4, 6, 8, 10, 12, 14, 16, 18, 20, 22, 24, 26, 28, 30, 32, 34, 36]\n"
     ]
    }
   ],
   "source": [
    "# Set operations\n",
    "\n",
    "# Set with first 20 even numbers\n",
    "# S = {x | x = 2n, 0 ≤ n ≤ 19}} \n",
    "\n",
    "S = [2 * x for x in range(19)]\n",
    "print(S)"
   ]
  },
  {
   "cell_type": "code",
   "execution_count": 12,
   "metadata": {},
   "outputs": [
    {
     "name": "stdout",
     "output_type": "stream",
     "text": [
      "Enter Number : \n",
      "53 is prime\n"
     ]
    }
   ],
   "source": [
    "# Checking Prime Numbers\n",
    "\n",
    "def checkPrime(number) :\n",
    "    for i in range(2, number) :\n",
    "        if(number % i == 0 and i < number) :\n",
    "            return False\n",
    "    return True\n",
    "\n",
    "print(\"Enter Number : \")\n",
    "number = int(input())\n",
    "if(checkPrime(number)) :\n",
    "    print(str(number) + \" is prime\")\n",
    "else :\n",
    "    print(str(number) + \" is not prime\")"
   ]
  },
  {
   "cell_type": "code",
   "execution_count": 26,
   "metadata": {},
   "outputs": [
    {
     "name": "stdout",
     "output_type": "stream",
     "text": [
      "x^2 + x - 6\n",
      "What is the answer?\n",
      "x1 : \n",
      "x2 : \n",
      "Your answer was correct!\n"
     ]
    }
   ],
   "source": [
    "# Sets initialization and equivalence\n",
    "\n",
    "A = set([x for x in range (-50,50) if x**2+x-6==0])\n",
    "B = []\n",
    "\n",
    "print(\"x^2 + x - 6\")\n",
    "print(\"What is the answer?\")\n",
    "print(\"x1 : \")\n",
    "B.append(int(input()))\n",
    "print(\"x2 : \")\n",
    "B.append(int(input()))\n",
    "B = set(B)\n",
    "if(B == A) :\n",
    "    print(\"Your answer was correct!\")\n",
    "else :\n",
    "    print(\"Wrong answer!\")\n"
   ]
  },
  {
   "cell_type": "code",
   "execution_count": 29,
   "metadata": {},
   "outputs": [
    {
     "name": "stdout",
     "output_type": "stream",
     "text": [
      "[(1, -1), (1, -2), (1, -3), (1, -4), (2, -1), (2, -2), (2, -3), (2, -4)]\n"
     ]
    }
   ],
   "source": [
    "# Sets of tuples, pairs, or product of sets\n",
    "\n",
    "A = [(a, b) for a in range(1, 3) for b in range(-1, -5, -1)]\n",
    "print(A)"
   ]
  },
  {
   "cell_type": "code",
   "execution_count": 30,
   "metadata": {},
   "outputs": [
    {
     "name": "stdout",
     "output_type": "stream",
     "text": [
      "      True       True       True\n",
      "      True      False      False\n",
      "     False       True      False\n",
      "     False      False      False\n"
     ]
    }
   ],
   "source": [
    "# Logic 1\n",
    "\n",
    "for p in (True, False):\n",
    "    for q in (True, False):\n",
    "        print(\"%10s %10s %10s\" % ( p, q, p and q))\n"
   ]
  },
  {
   "cell_type": "code",
   "execution_count": 31,
   "metadata": {},
   "outputs": [
    {
     "name": "stdout",
     "output_type": "stream",
     "text": [
      "      True       True       True      False\n",
      "      True       True      False      False\n",
      "      True      False       True      False\n",
      "      True      False      False      False\n",
      "     False       True       True       True\n",
      "     False       True      False       True\n",
      "     False      False       True       True\n",
      "     False      False      False      False\n"
     ]
    }
   ],
   "source": [
    "# Logic 2\n",
    "# !p and (p or q)\n",
    "\n",
    "for p in (True, False):\n",
    "    for q in (True, False):\n",
    "        for r in (True, False):\n",
    "            print(\"%10s %10s %10s %10s\" % ( p, q, r, not p and (q or r)))\n"
   ]
  },
  {
   "cell_type": "code",
   "execution_count": 36,
   "metadata": {},
   "outputs": [
    {
     "name": "stdout",
     "output_type": "stream",
     "text": [
      "True\n"
     ]
    }
   ],
   "source": [
    "# Logic 3\n",
    "def implies(p,q) :\n",
    "    if p >= 0 and q >= 0:\n",
    "        return p * q >= 0\n",
    "    else:\n",
    "        return True\n",
    "\n",
    "print(implies(-5, 0))\n"
   ]
  },
  {
   "cell_type": "code",
   "execution_count": 49,
   "metadata": {},
   "outputs": [
    {
     "name": "stdout",
     "output_type": "stream",
     "text": [
      "Is x^2 >= 0 for ALL x ?\n",
      "Enter range of numbers : \n",
      "Start : \n",
      "Stop : \n",
      "[-10, -9, -8, -7, -6, -5, -4, -3, -2, -1, 0, 1, 2, 3, 4, 5, 6, 7, 8, 9, 10, 11, 12, 13, 14]\n",
      "-10^2 = 100\n",
      "-9^2 = 81\n",
      "-8^2 = 64\n",
      "-7^2 = 49\n",
      "-6^2 = 36\n",
      "-5^2 = 25\n",
      "-4^2 = 16\n",
      "-3^2 = 9\n",
      "-2^2 = 4\n",
      "-1^2 = 1\n",
      "0^2 = 0\n",
      "1^2 = 1\n",
      "2^2 = 4\n",
      "3^2 = 9\n",
      "4^2 = 16\n",
      "5^2 = 25\n",
      "6^2 = 36\n",
      "7^2 = 49\n",
      "8^2 = 64\n",
      "9^2 = 81\n",
      "10^2 = 100\n",
      "11^2 = 121\n",
      "12^2 = 144\n",
      "13^2 = 169\n",
      "14^2 = 196\n",
      "Statement is true\n"
     ]
    }
   ],
   "source": [
    "# Quantifiers 1\n",
    "# For all\n",
    "\n",
    "def check(start, stop):\n",
    "    lst = [x for x in range(start, stop)]\n",
    "    print(lst)\n",
    "    for i in range(start, stop) :\n",
    "        print(str(i) + \"^2 = \" + str(pow(i, 2)))\n",
    "        if not (pow(i, 2) >= 0) :\n",
    "            return False\n",
    "    return True\n",
    "\n",
    "print(\"Is x^2 >= 0 for ALL x ?\")\n",
    "print(\"Enter range of numbers : \")\n",
    "print(\"Start : \")\n",
    "start = int(input())\n",
    "print(\"Stop : \")\n",
    "stop = int(input())\n",
    "\n",
    "if(check(start, stop)) :\n",
    "    print(\"Statement is true\")\n",
    "else :\n",
    "    print(\"Statement is false\")\n"
   ]
  },
  {
   "cell_type": "code",
   "execution_count": 48,
   "metadata": {},
   "outputs": [
    {
     "name": "stdout",
     "output_type": "stream",
     "text": [
      "Is x - 2 = 0 for SOME x ?\n",
      "Enter range of numbers : \n",
      "Start : \n",
      "Stop : \n",
      "[0, 1, 2, 3, 4, 5, 6, 7, 8, 9, 10, 11]\n",
      "2 - 2 = 0\n",
      "Statement is true\n"
     ]
    }
   ],
   "source": [
    "# Quantifiers 2\n",
    "# Existence\n",
    "\n",
    "def check(start, stop):\n",
    "    lst = [x for x in range(start, stop)]\n",
    "    print(lst)\n",
    "    for i in range(start, stop) :\n",
    "        print(str(i) + \" - 2 = \" + str(i - 2))\n",
    "        if (i - 2 == 0) :\n",
    "            return True\n",
    "    return False\n",
    "\n",
    "print(\"Is x - 2 = 0 for SOME x ?\")\n",
    "print(\"Enter range of numbers : \")\n",
    "print(\"Start : \")\n",
    "start = int(input())\n",
    "print(\"Stop : \")\n",
    "stop = int(input())\n",
    "\n",
    "if(check(start, stop)) :\n",
    "    print(\"Statement is true\")\n",
    "else :\n",
    "    print(\"Statement is false\")\n"
   ]
  },
  {
   "cell_type": "code",
   "execution_count": 54,
   "metadata": {},
   "outputs": [
    {
     "name": "stdout",
     "output_type": "stream",
     "text": [
      "Is x - y = 0 for ALL x and SOME y ?\n",
      "Enter range of numbers for x : \n",
      "Start : \n",
      "Stop : \n",
      "Enter range of numbers for y : \n",
      "Start : \n",
      "Stop : \n",
      "X : [0, 1, 2, 3, 4]\n",
      "Y : [-2, -1, 0, 1, 2]\n",
      "0 - -2 = 2\n",
      "0 - -1 = 1\n",
      "0 - 0 = 0\n",
      "Statement is true\n"
     ]
    }
   ],
   "source": [
    "# Quantifiers 2\n",
    "# Nested Quantifiers\n",
    "\n",
    "def check(range_x, range_y):\n",
    "    lst_x = [x for x in range(range_x[0], range_x[1])]\n",
    "    lst_y = [y for y in range(range_y[0], range_y[1])]\n",
    "    print(\"X : \" + str(lst_x))\n",
    "    print(\"Y : \" + str(lst_y))\n",
    "    for i in range(range_x[0], range_x[1]):\n",
    "        for j in range(range_y[0], range_y[1]):\n",
    "            print(str(i) + \" - \" + str(j) + \" = \" + str(i - j))\n",
    "            if i - j == 0:\n",
    "                return True\n",
    "    return False\n",
    "\n",
    "range_x = []\n",
    "range_y = []\n",
    "print(\"Is x - y = 0 for ALL x and SOME y ?\")\n",
    "print(\"Enter range of numbers for x : \")\n",
    "print(\"Start : \")\n",
    "range_x.append(int(input()))\n",
    "print(\"Stop : \")\n",
    "range_x.append(int(input()))\n",
    "\n",
    "print(\"Enter range of numbers for y : \")\n",
    "print(\"Start : \")\n",
    "range_y.append(int(input()))\n",
    "print(\"Stop : \")\n",
    "range_y.append(int(input()))\n",
    "\n",
    "if(check(range_x, range_y)) :\n",
    "    print(\"Statement is true\")\n",
    "else :\n",
    "    print(\"Statement is false\")\n"
   ]
  },
  {
   "cell_type": "code",
   "execution_count": 56,
   "metadata": {},
   "outputs": [
    {
     "name": "stdout",
     "output_type": "stream",
     "text": [
      "Enter range of numbers : \n",
      "Start : \n",
      "Stop : \n",
      "0 0 0\n",
      "0 0 1\n",
      "0 0 2\n",
      "0 1 0\n",
      "0 1 1\n",
      "0 1 2\n",
      "0 2 0\n",
      "0 2 1\n",
      "0 2 2\n",
      "1 0 0\n",
      "1 0 1\n",
      "1 0 2\n",
      "1 1 0\n",
      "1 1 1\n",
      "1 1 2\n",
      "1 2 0\n",
      "1 2 1\n",
      "1 2 2\n",
      "2 0 0\n",
      "2 0 1\n",
      "2 0 2\n",
      "2 1 0\n",
      "2 1 1\n",
      "2 1 2\n",
      "2 2 0\n",
      "2 2 1\n",
      "2 2 2\n"
     ]
    }
   ],
   "source": [
    "# Combinatiorial Selection\n",
    "\n",
    "print(\"Enter range of numbers : \")\n",
    "print(\"Start : \")\n",
    "start = int(input())\n",
    "print(\"Stop : \")\n",
    "stop = int(input())\n",
    "\n",
    "for i in range(start, stop):\n",
    "    for j in range(start, stop):\n",
    "        for k in range (start,  stop):\n",
    "            print(str(i) + \" \" + str(j) + \" \" + str(k))"
   ]
  }
 ],
 "metadata": {
  "kernelspec": {
   "display_name": "Python 3.9.12 ('base')",
   "language": "python",
   "name": "python3"
  },
  "language_info": {
   "codemirror_mode": {
    "name": "ipython",
    "version": 3
   },
   "file_extension": ".py",
   "mimetype": "text/x-python",
   "name": "python",
   "nbconvert_exporter": "python",
   "pygments_lexer": "ipython3",
   "version": "3.9.12"
  },
  "orig_nbformat": 4,
  "vscode": {
   "interpreter": {
    "hash": "76708e7f05316c682410a77e58469e4c8cae5daf58cc85659a46561e7d2ddfbe"
   }
  }
 },
 "nbformat": 4,
 "nbformat_minor": 2
}
